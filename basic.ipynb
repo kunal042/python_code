{
 "cells": [
  {
   "cell_type": "code",
   "execution_count": 8,
   "metadata": {},
   "outputs": [],
   "source": [
    "arr = [1,2,3,4,5]\n",
    "c_arr = arr[:]\n",
    "\n",
    "c_arr.append(6)\n"
   ]
  },
  {
   "cell_type": "code",
   "execution_count": 10,
   "metadata": {},
   "outputs": [
    {
     "name": "stdout",
     "output_type": "stream",
     "text": [
      "[1, 2, 3, 4, 5, 6]\n",
      "[1, 2, 3, 4, 5]\n"
     ]
    }
   ],
   "source": [
    "print(c_arr)\n",
    "print(arr)"
   ]
  },
  {
   "cell_type": "code",
   "execution_count": 12,
   "metadata": {},
   "outputs": [
    {
     "name": "stdout",
     "output_type": "stream",
     "text": [
      "\n",
      "        x = 5\n",
      "        y = 6\n",
      "        5 + 6 =  11\n",
      "\n",
      "\n"
     ]
    }
   ],
   "source": [
    "# String Formating\n",
    "\n",
    "x = int(input(\"Enter the first number :\")) \n",
    "y = int(input(\"Enter the second number :\")) \n",
    "z = x + y\n",
    "sum_ = \"\"\"\n",
    "        x = {}\n",
    "        y = {}\n",
    "        {} + {} =  {}\n",
    "\n",
    "\"\"\"\n",
    "\n",
    "print(sum_.format(x,y,x,y,z))"
   ]
  },
  {
   "cell_type": "code",
   "execution_count": 13,
   "metadata": {},
   "outputs": [
    {
     "name": "stdout",
     "output_type": "stream",
     "text": [
      "\n",
      "        x = 5\n",
      "        y = 6\n",
      "        5 + 6 = 11\n",
      " \n",
      "\n"
     ]
    }
   ],
   "source": [
    "x = int(input(\"Enter the first number :\")) \n",
    "y = int(input(\"Enter the second number :\")) \n",
    "z = x + y\n",
    "sum_ = \"\"\"\n",
    "        x = {0}\n",
    "        y = {1}\n",
    "        {0} + {1} = {2}\n",
    " \n",
    "\"\"\"\n",
    "\n",
    "print(sum_.format(x,y,z))"
   ]
  },
  {
   "cell_type": "code",
   "execution_count": 14,
   "metadata": {},
   "outputs": [
    {
     "name": "stdout",
     "output_type": "stream",
     "text": [
      "\n",
      "        x = 5\n",
      "        y = 6\n",
      "        5 + 6 = 11\n",
      "\n",
      "\n"
     ]
    }
   ],
   "source": [
    "x = int(input(\"Enter the first number :\")) \n",
    "y = int(input(\"Enter the second number :\")) \n",
    "z = x + y\n",
    "sum_ = \"\"\"\n",
    "        x = {X}\n",
    "        y = {Y}\n",
    "        {X} + {Y} = {Z}\n",
    "\n",
    "\"\"\"\n",
    "\n",
    "print(sum_.format(X=x,Y=y,Z=z))"
   ]
  },
  {
   "cell_type": "code",
   "execution_count": 15,
   "metadata": {},
   "outputs": [
    {
     "name": "stdout",
     "output_type": "stream",
     "text": [
      "\n",
      "        x = 5\n",
      "        y = 6\n",
      "       5 + 6 = 11\n",
      "\n",
      "\n"
     ]
    }
   ],
   "source": [
    "x = int(input(\"Enter the first number :\")) \n",
    "y = int(input(\"Enter the second number :\")) \n",
    "z = x + y\n",
    "sum_ = f\"\"\"\n",
    "        x = {x}\n",
    "        y = {y}\n",
    "       {x} + {y} = {z}\n",
    "\n",
    "\"\"\"\n",
    "\n",
    "print(sum_)"
   ]
  },
  {
   "cell_type": "code",
   "execution_count": 18,
   "metadata": {},
   "outputs": [
    {
     "name": "stdout",
     "output_type": "stream",
     "text": [
      "[1, 2, 1, 3, 4, 5, 7, 11, 12, 13, 13, 14, 15, 16, 7]\n",
      "[1, 2, 1, 1, 3, 4, 5, 7, 11, 12, 13, 13, 14, 15, 16, 7]\n",
      "[1, 2, 1, 1, 3, 4, 5, 7, 11, 12, 13, 13, 14, 15, 16, 7, 11, 12, 13, 13, 14, 15, 16]\n"
     ]
    }
   ],
   "source": [
    "arr.append(7)\n",
    "print(arr)\n",
    "arr.insert(2,1)\n",
    "print(arr)\n",
    "arr.extend([11,12,13,13,14,15,16])\n",
    "print(arr)"
   ]
  },
  {
   "cell_type": "code",
   "execution_count": 21,
   "metadata": {},
   "outputs": [
    {
     "name": "stdout",
     "output_type": "stream",
     "text": [
      "[1, 2, 1, 1, 3, 4, 5, 7, 11, 12, 13, 13, 14, 15, 16, 7, 11, 12, 13, 13]\n"
     ]
    }
   ],
   "source": [
    "arr.pop()\n",
    "print(arr)"
   ]
  },
  {
   "cell_type": "code",
   "execution_count": 23,
   "metadata": {},
   "outputs": [
    {
     "name": "stdout",
     "output_type": "stream",
     "text": [
      "[1, 2, 1, 4, 5, 7, 11, 12, 13, 13, 14, 15, 16, 7, 11, 12, 13, 13]\n"
     ]
    }
   ],
   "source": [
    "arr.pop(3)\n",
    "print(arr)"
   ]
  },
  {
   "cell_type": "code",
   "execution_count": 27,
   "metadata": {},
   "outputs": [
    {
     "ename": "ValueError",
     "evalue": "list.remove(x): x not in list",
     "output_type": "error",
     "traceback": [
      "\u001b[1;31m---------------------------------------------------------------------------\u001b[0m",
      "\u001b[1;31mValueError\u001b[0m                                Traceback (most recent call last)",
      "Cell \u001b[1;32mIn[27], line 1\u001b[0m\n\u001b[1;32m----> 1\u001b[0m \u001b[43marr\u001b[49m\u001b[38;5;241;43m.\u001b[39;49m\u001b[43mremove\u001b[49m\u001b[43m(\u001b[49m\u001b[38;5;241;43m111\u001b[39;49m\u001b[43m)\u001b[49m\n\u001b[0;32m      2\u001b[0m \u001b[38;5;28mprint\u001b[39m(arr)\n",
      "\u001b[1;31mValueError\u001b[0m: list.remove(x): x not in list"
     ]
    }
   ],
   "source": [
    "arr.remove(111)\n",
    "print(arr)"
   ]
  },
  {
   "cell_type": "code",
   "execution_count": 29,
   "metadata": {},
   "outputs": [
    {
     "name": "stdout",
     "output_type": "stream",
     "text": [
      "[65, 60, 50, 40, 34, 12, 6, 5, 4, 3]\n"
     ]
    }
   ],
   "source": [
    "nums = [40,50,60,4,3,5,6,65,34,12]\n",
    "nums.sort(reverse=True)\n",
    "print(nums)"
   ]
  },
  {
   "cell_type": "markdown",
   "metadata": {},
   "source": [
    "# Dictinary "
   ]
  },
  {
   "cell_type": "code",
   "execution_count": 1,
   "metadata": {},
   "outputs": [
    {
     "name": "stdout",
     "output_type": "stream",
     "text": [
      "{'Kunal': 1234567, 'rahul': 654321, 'abhishek': 98765678, 'ravi': 87654323456}\n"
     ]
    }
   ],
   "source": [
    "phone = {\n",
    "    \"Kunal\" : 1234567,\n",
    "    \"rahul\" : 654321,\n",
    "    \"abhishek\" : 98765678,\n",
    "    \"ravi\" : 87654323456,\n",
    "}\n",
    "\n",
    "print(phone)"
   ]
  },
  {
   "cell_type": "code",
   "execution_count": 6,
   "metadata": {},
   "outputs": [
    {
     "name": "stdout",
     "output_type": "stream",
     "text": [
      "{'Kunal': 1234567, 'abhishek': 98765678, 'rahul': 654321, 'ravi': 87654323456}\n"
     ]
    }
   ],
   "source": [
    "from pprint import pprint\n",
    "\n",
    "pprint(phone)\n"
   ]
  },
  {
   "cell_type": "code",
   "execution_count": 7,
   "metadata": {},
   "outputs": [
    {
     "name": "stdout",
     "output_type": "stream",
     "text": [
      "1917957216768 <class 'dict'>\n"
     ]
    }
   ],
   "source": [
    "print(id(phone), type(phone))"
   ]
  },
  {
   "cell_type": "code",
   "execution_count": 12,
   "metadata": {},
   "outputs": [
    {
     "ename": "TypeError",
     "evalue": "unhashable type: 'list'",
     "output_type": "error",
     "traceback": [
      "\u001b[1;31m---------------------------------------------------------------------------\u001b[0m",
      "\u001b[1;31mTypeError\u001b[0m                                 Traceback (most recent call last)",
      "Cell \u001b[1;32mIn[12], line 1\u001b[0m\n\u001b[1;32m----> 1\u001b[0m info \u001b[38;5;241m=\u001b[39m {\n\u001b[0;32m      2\u001b[0m     [ \u001b[38;5;241m1\u001b[39m, \u001b[38;5;241m2\u001b[39m ]      : \u001b[38;5;124m\"\u001b[39m\u001b[38;5;124mValue\u001b[39m\u001b[38;5;124m\"\u001b[39m,\n\u001b[0;32m      3\u001b[0m     [ \u001b[38;5;241m3\u001b[39m, \u001b[38;5;241m4\u001b[39m ] : \u001b[38;5;124m\"\u001b[39m\u001b[38;5;124mvalues\u001b[39m\u001b[38;5;124m\"\u001b[39m,\n\u001b[0;32m      4\u001b[0m }\n\u001b[0;32m      5\u001b[0m \u001b[38;5;28mprint\u001b[39m(info)\n",
      "\u001b[1;31mTypeError\u001b[0m: unhashable type: 'list'"
     ]
    }
   ],
   "source": [
    "info = {\n",
    "    [ 1, 2 ]      : \"Value\",\n",
    "    [ 3, 4 ] : \"values\",\n",
    "}\n",
    "print(info)"
   ]
  },
  {
   "cell_type": "code",
   "execution_count": 11,
   "metadata": {},
   "outputs": [
    {
     "name": "stdout",
     "output_type": "stream",
     "text": [
      "{('one', 'two'): 'Value', ('Three', 'Fourth'): 'values'}\n"
     ]
    }
   ],
   "source": [
    "info = {\n",
    "    (\"one\", \"two\") : \"Value\",\n",
    "    (\"Three\", \"Fourth\") : \"values\",\n",
    "}\n",
    "print(info)"
   ]
  },
  {
   "cell_type": "code",
   "execution_count": 13,
   "metadata": {},
   "outputs": [
    {
     "name": "stdout",
     "output_type": "stream",
     "text": [
      "{'int': 123, 'float': 12.33, 'complex': (3+5j), 'string': 'Hello i am string', 'list': ['list', 'are', 'Sequentuial', 'Data', 'type'], 'tuple': ('i', 'am', 'a', 'Tuple'), 'Dict': {'name': 'Dictionary', 'type': 'Awesome Data Type', 'concept': 'mapping'}}\n"
     ]
    }
   ],
   "source": [
    "python_type = {\n",
    "    \"int\" : 123,\n",
    "    \"float\" : 12.33,\n",
    "    \"complex\" : 3 + 5j,\n",
    "    \"string\" : \"Hello i am string\",\n",
    "    \"list\" : ['list', \"are\", \"Sequentuial\", \"Data\", \"type\"],\n",
    "    \"tuple\" : (\"i\", \"am\", \"a\", \"Tuple\"),\n",
    "    \"Dict\"  : {\"name\" : \"Dictionary\", \"type\" : \"Awesome Data Type\", \"concept\":\"mapping\"}\n",
    "}\n",
    "\n",
    "print(python_type)"
   ]
  },
  {
   "cell_type": "code",
   "execution_count": 14,
   "metadata": {},
   "outputs": [
    {
     "name": "stdout",
     "output_type": "stream",
     "text": [
      "{'Dict': {'concept': 'mapping',\n",
      "          'name': 'Dictionary',\n",
      "          'type': 'Awesome Data Type'},\n",
      " 'complex': (3+5j),\n",
      " 'float': 12.33,\n",
      " 'int': 123,\n",
      " 'list': ['list', 'are', 'Sequentuial', 'Data', 'type'],\n",
      " 'string': 'Hello i am string',\n",
      " 'tuple': ('i', 'am', 'a', 'Tuple')}\n"
     ]
    }
   ],
   "source": [
    "pprint(python_type)"
   ]
  },
  {
   "cell_type": "code",
   "execution_count": null,
   "metadata": {},
   "outputs": [],
   "source": []
  },
  {
   "cell_type": "code",
   "execution_count": null,
   "metadata": {},
   "outputs": [],
   "source": []
  },
  {
   "cell_type": "code",
   "execution_count": null,
   "metadata": {},
   "outputs": [],
   "source": []
  },
  {
   "cell_type": "code",
   "execution_count": null,
   "metadata": {},
   "outputs": [],
   "source": []
  }
 ],
 "metadata": {
  "kernelspec": {
   "display_name": "Python 3",
   "language": "python",
   "name": "python3"
  },
  "language_info": {
   "codemirror_mode": {
    "name": "ipython",
    "version": 3
   },
   "file_extension": ".py",
   "mimetype": "text/x-python",
   "name": "python",
   "nbconvert_exporter": "python",
   "pygments_lexer": "ipython3",
   "version": "3.11.1"
  }
 },
 "nbformat": 4,
 "nbformat_minor": 2
}
