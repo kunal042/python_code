{
 "cells": [
  {
   "cell_type": "markdown",
   "metadata": {},
   "source": [
    "### Dicitonary"
   ]
  },
  {
   "cell_type": "code",
   "execution_count": 1,
   "metadata": {},
   "outputs": [
    {
     "name": "stdout",
     "output_type": "stream",
     "text": [
      "{'Kunal': 1234567, 'rahul': 654321, 'abhishek': 98765678, 'ravi': 87654323456}\n"
     ]
    }
   ],
   "source": [
    "phone = {\n",
    "    \"Kunal\" : 1234567,\n",
    "    \"rahul\" : 654321,\n",
    "    \"abhishek\" : 98765678,\n",
    "    \"ravi\" : 87654323456,\n",
    "}\n",
    "\n",
    "print(phone)"
   ]
  },
  {
   "cell_type": "code",
   "execution_count": 2,
   "metadata": {},
   "outputs": [
    {
     "name": "stdout",
     "output_type": "stream",
     "text": [
      "{'Kunal': 1234567, 'abhishek': 98765678, 'rahul': 654321, 'ravi': 87654323456}\n"
     ]
    }
   ],
   "source": [
    "from pprint import pprint\n",
    "\n",
    "pprint(phone)"
   ]
  },
  {
   "cell_type": "code",
   "execution_count": 3,
   "metadata": {},
   "outputs": [
    {
     "name": "stdout",
     "output_type": "stream",
     "text": [
      "2275541800064 <class 'dict'>\n"
     ]
    }
   ],
   "source": [
    "print(id(phone), type(phone))"
   ]
  },
  {
   "cell_type": "code",
   "execution_count": 4,
   "metadata": {},
   "outputs": [
    {
     "name": "stdout",
     "output_type": "stream",
     "text": [
      "{'int': 123, 'float': 12.33, 'complex': (3+5j), 'string': 'Hello i am string', 'list': ['list', 'are', 'Sequentuial', 'Data', 'type'], 'tuple': ('i', 'am', 'a', 'Tuple'), 'Dict': {'name': 'Dictionary', 'type': 'Awesome Data Type', 'concept': 'mapping'}}\n"
     ]
    }
   ],
   "source": [
    "python_type = {\n",
    "    \"int\" : 123,\n",
    "    \"float\" : 12.33,\n",
    "    \"complex\" : 3 + 5j,\n",
    "    \"string\" : \"Hello i am string\",\n",
    "    \"list\" : ['list', \"are\", \"Sequentuial\", \"Data\", \"type\"],\n",
    "    \"tuple\" : (\"i\", \"am\", \"a\", \"Tuple\"),\n",
    "    \"Dict\"  : {\"name\" : \"Dictionary\", \"type\" : \"Awesome Data Type\", \"concept\":\"mapping\"}\n",
    "}\n",
    "\n",
    "print(python_type)"
   ]
  },
  {
   "cell_type": "code",
   "execution_count": 5,
   "metadata": {},
   "outputs": [
    {
     "name": "stdout",
     "output_type": "stream",
     "text": [
      "{'Dict': {'concept': 'mapping',\n",
      "          'name': 'Dictionary',\n",
      "          'type': 'Awesome Data Type'},\n",
      " 'complex': (3+5j),\n",
      " 'float': 12.33,\n",
      " 'int': 123,\n",
      " 'list': ['list', 'are', 'Sequentuial', 'Data', 'type'],\n",
      " 'string': 'Hello i am string',\n",
      " 'tuple': ('i', 'am', 'a', 'Tuple')}\n"
     ]
    }
   ],
   "source": [
    "pprint(python_type)"
   ]
  },
  {
   "cell_type": "code",
   "execution_count": null,
   "metadata": {},
   "outputs": [],
   "source": []
  }
 ],
 "metadata": {
  "kernelspec": {
   "display_name": "Python 3",
   "language": "python",
   "name": "python3"
  },
  "language_info": {
   "codemirror_mode": {
    "name": "ipython",
    "version": 3
   },
   "file_extension": ".py",
   "mimetype": "text/x-python",
   "name": "python",
   "nbconvert_exporter": "python",
   "pygments_lexer": "ipython3",
   "version": "3.11.1"
  }
 },
 "nbformat": 4,
 "nbformat_minor": 2
}
